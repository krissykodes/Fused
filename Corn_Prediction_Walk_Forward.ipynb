{
 "cells": [
  {
   "cell_type": "markdown",
   "metadata": {},
   "source": [
    "# Corn Yield Prediction \n",
    "\n",
    "Below is is v0 of Kristin's corn yield prediction model (using 3 measurements of SIF and walk forward validation) and steps I followed:\n",
    "\n",
    "1. Create a baseline linear model using the provided formula and treat it as benchmark. (only at national level)\n",
    "2. Retrieve Data from Fused UDF-Cornucopia \n",
    "3. Implement a Random Forest model for yield prediction (at county level)\n",
    "4. Perform a walk-forward validation (train/test splits by year).\n",
    "5. Reserve a final holdout set to measure out-of-sample performance.\n"
   ]
  },
  {
   "cell_type": "markdown",
   "metadata": {},
   "source": [
    "## 1. Baseline Model\n",
    "\n",
    "Baseline model gathered data from this image (https://www.nass.usda.gov/Charts_and_Maps/Field_Crops/cornyld.php) using data previous to 2015 and removing outliers."
   ]
  },
  {
   "cell_type": "code",
   "execution_count": 68,
   "metadata": {},
   "outputs": [
    {
     "name": "stdout",
     "output_type": "stream",
     "text": [
      "\n",
      "Predicted Yields (2015-2020):\n",
      "   Year  Predicted Yield (baseline)  Actual Yield (USDA)  USDA June Actual\n",
      "0  2015                      169.84                168.4             166.8\n",
      "1  2016                      172.16                174.6             168.0\n",
      "2  2017                      174.49                176.6             170.7\n",
      "3  2018                      176.82                176.4             174.0\n",
      "4  2019                      179.14                167.5             176.0\n",
      "5  2020                      181.47                172.0             178.5\n",
      "Linear Model: Yield = 2.33 * Year + -4518.23\n",
      "Mean Squared Error: 40.42\n"
     ]
    }
   ],
   "source": [
    "import numpy as np\n",
    "import matplotlib.pyplot as plt\n",
    "from sklearn.linear_model import LinearRegression\n",
    "from sklearn.metrics import mean_squared_error\n",
    "    \n",
    "    \n",
    "#Create baseline model based on USDA Screenshot data from 1995\n",
    "# Data extracted from the chart\n",
    "years = np.array([1995, 1996, 1997, 1998, 1999, 2000, 2001, 2002, 2003, 2004, 2005, 2006, 2007, 2008, 2009, 2010, 2011, 2013, 2014]).reshape(-1, 1)\n",
    "yields = np.array([113.5, 127.1, 126.7, 134.4, 133.8, 136.9, 138.2, 129.3, 142.2, 160.3, 147.9, 150.7, 153.3, 152.6, 164.4, 146.8, 158.1, 158.1, 171.0])\n",
    "\n",
    "# Remove outliers\n",
    "q1, q3 = np.percentile(yields, [25, 75])\n",
    "iqr = q3 - q1\n",
    "mask = (yields >= q1 - 1.5 * iqr) & (yields <= q3 + 1.5 * iqr)\n",
    "years, yields = years[mask], yields[mask]\n",
    "\n",
    "# Fit and predict\n",
    "model = LinearRegression().fit(years, yields)\n",
    "yield_predictions = model.predict(years)\n",
    "\n",
    "# Predict for 2015-2020\n",
    "target_years = np.array(range(2015, 2021)).reshape(-1, 1)\n",
    "predictions = model.predict(target_years)\n",
    "\n",
    "# Calculate error for the baseline model\n",
    "baseline_predictions = model.predict(years)\n",
    "mse = mean_squared_error(yields, baseline_predictions)\n",
    "\n",
    "# Create a table for predictions\n",
    "data = {\n",
    "    \"Year\": range(2015, 2021),\n",
    "    \"Predicted Yield (baseline)\": predictions.round(2),\n",
    "    \"Actual Yield (USDA)\": [168.4, 174.6, 176.6, 176.4, 167.5, 172.0],  # Hard-coded actual yields\n",
    "    \"USDA June Actual\": [166.8, 168.0, 170.7, 174.0, 176.0, 178.5]  # Hard-coded USDA predictions\n",
    "}\n",
    "prediction_table = pd.DataFrame(data)\n",
    "\n",
    "# Output table\n",
    "print(\"\\nPredicted Yields (2015-2020):\")\n",
    "print(prediction_table)\n",
    "\n",
    "\n",
    "# Output model and error\n",
    "print(f\"Linear Model: Yield = {model.coef_[0]:.2f} * Year + {model.intercept_:.2f}\")\n",
    "print(f\"Mean Squared Error: {mean_squared_error(yields, yield_predictions):.2f}\")\n",
    "\n",
    "\n",
    "\n"
   ]
  },
  {
   "cell_type": "markdown",
   "metadata": {},
   "source": [
    "## 2. Retrieve Data from Fused\n",
    "\n",
    "### Connect to Fuseda and Use Cornucopia UDF. \n",
    "\n",
    "We specify the area for the UDF to download data by passing a GeoDataFrame to the bbox parameter."
   ]
  },
  {
   "cell_type": "code",
   "execution_count": 59,
   "metadata": {},
   "outputs": [
    {
     "name": "stdout",
     "output_type": "stream",
     "text": [
      "Note: you may need to restart the kernel to use updated packages.\n"
     ]
    }
   ],
   "source": [
    "pip install fused -q"
   ]
  },
  {
   "cell_type": "code",
   "execution_count": 60,
   "metadata": {},
   "outputs": [
    {
     "data": {
      "text/markdown": [
       "\n",
       "Please open this link to authenticate with Fused:\n",
       "\n",
       "* [https://dev-tjcykxcetrz6bps6.us.auth0.com/authorize?audience=fused-python-api&scope=openid+email+name+offline_access&response_type=code&client_id=CXiwKZQmmyo0rqXZY7pzBgfsF7AL2A9l&redirect_uri=https%3A%2F%2Fwww.fused.io%2Fnotebook_login_redirect&code_challenge_method=S256&code_challenge=4MPeZgE47CU5M03wIEJ9jYuGm87Hd7xOK3GPKgLhru4](https://dev-tjcykxcetrz6bps6.us.auth0.com/authorize?audience=fused-python-api&scope=openid+email+name+offline_access&response_type=code&client_id=CXiwKZQmmyo0rqXZY7pzBgfsF7AL2A9l&redirect_uri=https%3A%2F%2Fwww.fused.io%2Fnotebook_login_redirect&code_challenge_method=S256&code_challenge=4MPeZgE47CU5M03wIEJ9jYuGm87Hd7xOK3GPKgLhru4)\n",
       "\n",
       "Once you have logged in, that page will give you a code which you can paste into this notebook to finish logging in.\n"
      ],
      "text/plain": [
       "<IPython.core.display.Markdown object>"
      ]
     },
     "metadata": {},
     "output_type": "display_data"
    }
   ],
   "source": [
    "# Run this cell, visit the URL, paste the provided credentials snippet in a new cell\n",
    "from fused.api import NotebookCredentials\n",
    "credentials = NotebookCredentials()"
   ]
  },
  {
   "cell_type": "code",
   "execution_count": 61,
   "metadata": {},
   "outputs": [
    {
     "ename": "HTTPError",
     "evalue": "403 Client Error: Forbidden for url: https://dev-tjcykxcetrz6bps6.us.auth0.com/oauth/token",
     "output_type": "error",
     "traceback": [
      "\u001b[0;31m---------------------------------------------------------------------------\u001b[0m",
      "\u001b[0;31mHTTPError\u001b[0m                                 Traceback (most recent call last)",
      "Cell \u001b[0;32mIn[61], line 1\u001b[0m\n\u001b[0;32m----> 1\u001b[0m \u001b[43mcredentials\u001b[49m\u001b[38;5;241;43m.\u001b[39;49m\u001b[43mfinalize\u001b[49m\u001b[43m(\u001b[49m\u001b[43mcode\u001b[49m\u001b[38;5;241;43m=\u001b[39;49m\u001b[38;5;124;43m\"\u001b[39;49m\u001b[38;5;124;43m_eLzl1HR2p7rPZ3JsKtqkMcPScc6R--WRYpaJwFyOJbGY\u001b[39;49m\u001b[38;5;124;43m\"\u001b[39;49m\u001b[43m)\u001b[49m\n",
      "File \u001b[0;32m/usr/local/lib/python3.11/site-packages/fused/api/credentials.py:83\u001b[0m, in \u001b[0;36mNotebookCredentials.finalize\u001b[0;34m(self, code)\u001b[0m\n\u001b[1;32m     69\u001b[0m token_data \u001b[38;5;241m=\u001b[39m {\n\u001b[1;32m     70\u001b[0m     \u001b[38;5;124m\"\u001b[39m\u001b[38;5;124mclient_id\u001b[39m\u001b[38;5;124m\"\u001b[39m: OPTIONS\u001b[38;5;241m.\u001b[39mauth\u001b[38;5;241m.\u001b[39mclient_id,\n\u001b[1;32m     71\u001b[0m     \u001b[38;5;124m\"\u001b[39m\u001b[38;5;124mgrant_type\u001b[39m\u001b[38;5;124m\"\u001b[39m: \u001b[38;5;124m\"\u001b[39m\u001b[38;5;124mauthorization_code\u001b[39m\u001b[38;5;124m\"\u001b[39m,\n\u001b[0;32m   (...)\u001b[0m\n\u001b[1;32m     76\u001b[0m     \u001b[38;5;124m\"\u001b[39m\u001b[38;5;124mcode_verifier\u001b[39m\u001b[38;5;124m\"\u001b[39m: \u001b[38;5;28mself\u001b[39m\u001b[38;5;241m.\u001b[39m_code_verifier,\n\u001b[1;32m     77\u001b[0m }\n\u001b[1;32m     78\u001b[0m token_response \u001b[38;5;241m=\u001b[39m requests\u001b[38;5;241m.\u001b[39mpost(\n\u001b[1;32m     79\u001b[0m     OPTIONS\u001b[38;5;241m.\u001b[39mauth\u001b[38;5;241m.\u001b[39moauth_token_url,\n\u001b[1;32m     80\u001b[0m     json\u001b[38;5;241m=\u001b[39mtoken_data,\n\u001b[1;32m     81\u001b[0m     timeout\u001b[38;5;241m=\u001b[39mOPTIONS\u001b[38;5;241m.\u001b[39mrequest_timeout,\n\u001b[1;32m     82\u001b[0m )\n\u001b[0;32m---> 83\u001b[0m \u001b[43mtoken_response\u001b[49m\u001b[38;5;241;43m.\u001b[39;49m\u001b[43mraise_for_status\u001b[49m\u001b[43m(\u001b[49m\u001b[43m)\u001b[49m\n\u001b[1;32m     84\u001b[0m token_dict \u001b[38;5;241m=\u001b[39m token_response\u001b[38;5;241m.\u001b[39mjson()\n\u001b[1;32m     86\u001b[0m credentials \u001b[38;5;241m=\u001b[39m Credentials\u001b[38;5;241m.\u001b[39mfrom_token_response(token_dict)\n",
      "File \u001b[0;32m/usr/local/lib/python3.11/site-packages/requests/models.py:1024\u001b[0m, in \u001b[0;36mResponse.raise_for_status\u001b[0;34m(self)\u001b[0m\n\u001b[1;32m   1019\u001b[0m     http_error_msg \u001b[38;5;241m=\u001b[39m (\n\u001b[1;32m   1020\u001b[0m         \u001b[38;5;124mf\u001b[39m\u001b[38;5;124m\"\u001b[39m\u001b[38;5;132;01m{\u001b[39;00m\u001b[38;5;28mself\u001b[39m\u001b[38;5;241m.\u001b[39mstatus_code\u001b[38;5;132;01m}\u001b[39;00m\u001b[38;5;124m Server Error: \u001b[39m\u001b[38;5;132;01m{\u001b[39;00mreason\u001b[38;5;132;01m}\u001b[39;00m\u001b[38;5;124m for url: \u001b[39m\u001b[38;5;132;01m{\u001b[39;00m\u001b[38;5;28mself\u001b[39m\u001b[38;5;241m.\u001b[39murl\u001b[38;5;132;01m}\u001b[39;00m\u001b[38;5;124m\"\u001b[39m\n\u001b[1;32m   1021\u001b[0m     )\n\u001b[1;32m   1023\u001b[0m \u001b[38;5;28;01mif\u001b[39;00m http_error_msg:\n\u001b[0;32m-> 1024\u001b[0m     \u001b[38;5;28;01mraise\u001b[39;00m HTTPError(http_error_msg, response\u001b[38;5;241m=\u001b[39m\u001b[38;5;28mself\u001b[39m)\n",
      "\u001b[0;31mHTTPError\u001b[0m: 403 Client Error: Forbidden for url: https://dev-tjcykxcetrz6bps6.us.auth0.com/oauth/token"
     ]
    }
   ],
   "source": [
    "credentials.finalize(code=\"_eLzl1HR2p7rPZ3JsKtqkMcPScc6R--WRYpaJwFyOJbGY\")"
   ]
  },
  {
   "cell_type": "code",
   "execution_count": 69,
   "metadata": {},
   "outputs": [],
   "source": [
    "import fused\n",
    "import geopandas as gpd\n",
    "import shapely\n",
    "from sklearn.ensemble import RandomForestRegressor\n",
    "from sklearn.metrics import mean_squared_error\n",
    "from sklearn.model_selection import train_test_split\n",
    "\n",
    "# bbox = gpd.GeoDataFrame(\n",
    "#     geometry=[shapely.box(-73.9847, 40.7666, -73.9810, 40.7694)], \n",
    "#     crs=4326\n",
    "# )\n",
    "# bbox"
   ]
  },
  {
   "cell_type": "markdown",
   "metadata": {},
   "source": [
    "\n",
    "### Run the Overture UDF\n",
    "\n",
    "We may run the Fused Overture UDF with [fused.run](https://docs.fused.io/core-concepts/run/). We specify the area to load data with the bbox parameter. The UDF also provides optional parameters to select specific Overture releases, datasets, and columns - giving you flexibility to fetch only the data you need."
   ]
  },
  {
   "cell_type": "markdown",
   "metadata": {},
   "source": [
    "#### Buildings"
   ]
  },
  {
   "cell_type": "code",
   "execution_count": 70,
   "metadata": {},
   "outputs": [
    {
     "data": {
      "text/html": [
       "<div>\n",
       "<style scoped>\n",
       "    .dataframe tbody tr th:only-of-type {\n",
       "        vertical-align: middle;\n",
       "    }\n",
       "\n",
       "    .dataframe tbody tr th {\n",
       "        vertical-align: top;\n",
       "    }\n",
       "\n",
       "    .dataframe thead th {\n",
       "        text-align: right;\n",
       "    }\n",
       "</style>\n",
       "<table border=\"1\" class=\"dataframe\">\n",
       "  <thead>\n",
       "    <tr style=\"text-align: right;\">\n",
       "      <th></th>\n",
       "      <th>GEOID</th>\n",
       "      <th>year</th>\n",
       "      <th>corn_sif_mean_05a</th>\n",
       "      <th>corn_sif_mean_05b</th>\n",
       "      <th>corn_sif_mean_06a</th>\n",
       "      <th>corn_sif_mean_06b</th>\n",
       "      <th>corn_sif_mean_07a</th>\n",
       "      <th>corn_sif_mean_07b</th>\n",
       "      <th>bushels_per_acre_actual</th>\n",
       "      <th>area_corn_acres</th>\n",
       "      <th>area_county_acres</th>\n",
       "      <th>geometry</th>\n",
       "      <th>m_pct</th>\n",
       "      <th>bushels_sum_actual</th>\n",
       "    </tr>\n",
       "  </thead>\n",
       "  <tbody>\n",
       "    <tr>\n",
       "      <th>0</th>\n",
       "      <td>19119</td>\n",
       "      <td>2015</td>\n",
       "      <td>0.060527</td>\n",
       "      <td>0.081454</td>\n",
       "      <td>0.21092</td>\n",
       "      <td>0.411868</td>\n",
       "      <td>0.63121</td>\n",
       "      <td>0.844618</td>\n",
       "      <td>196.0</td>\n",
       "      <td>165598.064624</td>\n",
       "      <td>3.763592e+13</td>\n",
       "      <td>POLYGON ((-96.05316 43.50016, -96.05316 43.500...</td>\n",
       "      <td>0.44</td>\n",
       "      <td>3.245722e+07</td>\n",
       "    </tr>\n",
       "    <tr>\n",
       "      <th>1</th>\n",
       "      <td>19119</td>\n",
       "      <td>2015</td>\n",
       "      <td>0.060527</td>\n",
       "      <td>0.081454</td>\n",
       "      <td>0.21092</td>\n",
       "      <td>0.411868</td>\n",
       "      <td>0.63121</td>\n",
       "      <td>0.844618</td>\n",
       "      <td>196.0</td>\n",
       "      <td>165598.064624</td>\n",
       "      <td>3.763592e+13</td>\n",
       "      <td>POLYGON ((-96.05316 43.50016, -96.05316 43.500...</td>\n",
       "      <td>0.44</td>\n",
       "      <td>3.245722e+07</td>\n",
       "    </tr>\n",
       "    <tr>\n",
       "      <th>2</th>\n",
       "      <td>19119</td>\n",
       "      <td>2015</td>\n",
       "      <td>0.060527</td>\n",
       "      <td>0.081454</td>\n",
       "      <td>0.21092</td>\n",
       "      <td>0.411868</td>\n",
       "      <td>0.63121</td>\n",
       "      <td>0.844618</td>\n",
       "      <td>196.0</td>\n",
       "      <td>173125.249379</td>\n",
       "      <td>3.763592e+13</td>\n",
       "      <td>POLYGON ((-96.05316 43.50016, -96.05316 43.500...</td>\n",
       "      <td>0.46</td>\n",
       "      <td>3.393255e+07</td>\n",
       "    </tr>\n",
       "    <tr>\n",
       "      <th>3</th>\n",
       "      <td>19119</td>\n",
       "      <td>2015</td>\n",
       "      <td>0.060527</td>\n",
       "      <td>0.081454</td>\n",
       "      <td>0.21092</td>\n",
       "      <td>0.411868</td>\n",
       "      <td>0.63121</td>\n",
       "      <td>0.844618</td>\n",
       "      <td>196.0</td>\n",
       "      <td>176888.841757</td>\n",
       "      <td>3.763592e+13</td>\n",
       "      <td>POLYGON ((-96.05316 43.50016, -96.05316 43.500...</td>\n",
       "      <td>0.47</td>\n",
       "      <td>3.467021e+07</td>\n",
       "    </tr>\n",
       "    <tr>\n",
       "      <th>4</th>\n",
       "      <td>19119</td>\n",
       "      <td>2015</td>\n",
       "      <td>0.060527</td>\n",
       "      <td>0.081454</td>\n",
       "      <td>0.21092</td>\n",
       "      <td>0.411868</td>\n",
       "      <td>0.63121</td>\n",
       "      <td>0.844618</td>\n",
       "      <td>196.0</td>\n",
       "      <td>176888.841757</td>\n",
       "      <td>3.763592e+13</td>\n",
       "      <td>POLYGON ((-96.05316 43.50016, -96.05316 43.500...</td>\n",
       "      <td>0.47</td>\n",
       "      <td>3.467021e+07</td>\n",
       "    </tr>\n",
       "  </tbody>\n",
       "</table>\n",
       "</div>"
      ],
      "text/plain": [
       "   GEOID  year  corn_sif_mean_05a  corn_sif_mean_05b  corn_sif_mean_06a  \\\n",
       "0  19119  2015           0.060527           0.081454            0.21092   \n",
       "1  19119  2015           0.060527           0.081454            0.21092   \n",
       "2  19119  2015           0.060527           0.081454            0.21092   \n",
       "3  19119  2015           0.060527           0.081454            0.21092   \n",
       "4  19119  2015           0.060527           0.081454            0.21092   \n",
       "\n",
       "   corn_sif_mean_06b  corn_sif_mean_07a  corn_sif_mean_07b  \\\n",
       "0           0.411868            0.63121           0.844618   \n",
       "1           0.411868            0.63121           0.844618   \n",
       "2           0.411868            0.63121           0.844618   \n",
       "3           0.411868            0.63121           0.844618   \n",
       "4           0.411868            0.63121           0.844618   \n",
       "\n",
       "   bushels_per_acre_actual  area_corn_acres  area_county_acres  \\\n",
       "0                    196.0    165598.064624       3.763592e+13   \n",
       "1                    196.0    165598.064624       3.763592e+13   \n",
       "2                    196.0    173125.249379       3.763592e+13   \n",
       "3                    196.0    176888.841757       3.763592e+13   \n",
       "4                    196.0    176888.841757       3.763592e+13   \n",
       "\n",
       "                                            geometry  m_pct  \\\n",
       "0  POLYGON ((-96.05316 43.50016, -96.05316 43.500...   0.44   \n",
       "1  POLYGON ((-96.05316 43.50016, -96.05316 43.500...   0.44   \n",
       "2  POLYGON ((-96.05316 43.50016, -96.05316 43.500...   0.46   \n",
       "3  POLYGON ((-96.05316 43.50016, -96.05316 43.500...   0.47   \n",
       "4  POLYGON ((-96.05316 43.50016, -96.05316 43.500...   0.47   \n",
       "\n",
       "   bushels_sum_actual  \n",
       "0        3.245722e+07  \n",
       "1        3.245722e+07  \n",
       "2        3.393255e+07  \n",
       "3        3.467021e+07  \n",
       "4        3.467021e+07  "
      ]
     },
     "execution_count": 70,
     "metadata": {},
     "output_type": "execute_result"
    }
   ],
   "source": [
    "df = fused.run('fsh_6zh59m43BXZwFulEbTBux4') \n",
    "df.head()\n"
   ]
  },
  {
   "cell_type": "code",
   "execution_count": 71,
   "metadata": {},
   "outputs": [
    {
     "name": "stdout",
     "output_type": "stream",
     "text": [
      "year\n",
      "2015    6\n",
      "2016    6\n",
      "2019    6\n",
      "2020    6\n",
      "Name: count, dtype: int64\n"
     ]
    }
   ],
   "source": [
    "df['year'].unique()\n",
    "\n",
    "# Count the number of rows for each unique year\n",
    "year_counts = df['year'].value_counts().sort_index()\n",
    "\n",
    "# Display the result\n",
    "print(year_counts)"
   ]
  },
  {
   "cell_type": "code",
   "execution_count": 72,
   "metadata": {},
   "outputs": [
    {
     "name": "stdout",
     "output_type": "stream",
     "text": [
      "GEOID                      0\n",
      "year                       0\n",
      "corn_sif_mean_05a          0\n",
      "corn_sif_mean_05b          0\n",
      "corn_sif_mean_06a          0\n",
      "corn_sif_mean_06b          0\n",
      "corn_sif_mean_07a          0\n",
      "corn_sif_mean_07b          0\n",
      "bushels_per_acre_actual    0\n",
      "area_corn_acres            0\n",
      "area_county_acres          0\n",
      "geometry                   0\n",
      "m_pct                      0\n",
      "bushels_sum_actual         0\n",
      "dtype: int64\n"
     ]
    }
   ],
   "source": [
    "null_counts = df.isnull().sum()\n",
    "print(null_counts)\n"
   ]
  },
  {
   "cell_type": "code",
   "execution_count": 73,
   "metadata": {},
   "outputs": [],
   "source": [
    "# print(df.describe())"
   ]
  },
  {
   "cell_type": "markdown",
   "metadata": {},
   "source": [
    "### Year by Year Walk Forward\n"
   ]
  },
  {
   "cell_type": "code",
   "execution_count": 77,
   "metadata": {},
   "outputs": [
    {
     "name": "stdout",
     "output_type": "stream",
     "text": [
      "Year-by-Year Results:\n",
      "   test_year         mse       rmse  n_samples\n",
      "0       2016  118.810000  10.900000          6\n",
      "1       2019  180.203776  13.424000          6\n",
      "2       2020   96.011208   9.798531          6\n",
      "\n",
      "Average MSE: 131.67\n",
      "Average RMSE: 11.37\n",
      "\n",
      "Actual vs Predicted by Year:\n",
      "    year  actual  predicted\n",
      "0   2016   206.9    196.000\n",
      "1   2016   206.9    196.000\n",
      "2   2016   206.9    196.000\n",
      "3   2016   206.9    196.000\n",
      "4   2016   206.9    196.000\n",
      "5   2016   206.9    196.000\n",
      "6   2019   186.5    199.924\n",
      "7   2019   186.5    199.924\n",
      "8   2019   186.5    199.924\n",
      "9   2019   186.5    199.924\n",
      "10  2019   186.5    199.924\n",
      "11  2019   186.5    199.924\n",
      "12  2020   197.0    206.900\n",
      "13  2020   197.0    206.900\n",
      "14  2020   197.0    206.696\n",
      "15  2020   197.0    206.696\n",
      "16  2020   197.0    206.900\n",
      "17  2020   197.0    206.696\n"
     ]
    }
   ],
   "source": [
    "import pandas as pd\n",
    "import numpy as np\n",
    "from sklearn.ensemble import RandomForestRegressor\n",
    "from sklearn.metrics import mean_squared_error\n",
    "\n",
    "# -----------------------------\n",
    "# 1) Sort your data by year\n",
    "# -----------------------------\n",
    "df = df.sort_values('year').reset_index(drop=True)\n",
    "\n",
    "# We assume these are the predictive features.\n",
    "features = ['corn_sif_mean_05a', 'corn_sif_mean_05b', 'corn_sif_mean_06a',\n",
    "            'area_corn_acres', 'area_county_acres', 'm_pct']\n",
    "\n",
    "target = 'bushels_per_acre_actual'\n",
    "\n",
    "# -----------------------------\n",
    "# 2) List unique years in ascending order\n",
    "# -----------------------------\n",
    "all_years = sorted(df['year'].unique())\n",
    "\n",
    "# -----------------------------\n",
    "# 3) Prepare data structure to save results\n",
    "# -----------------------------\n",
    "yearly_results = []  # Will hold per-year results\n",
    "actual_predictions = []  # To store actual and predicted values for all years\n",
    "pred_results = []  # To store actual and predicted values for all years\n",
    "\n",
    "\n",
    "# -----------------------------\n",
    "# 4) Walk-forward loop, year-by-year\n",
    "# -----------------------------\n",
    "# Example: If all_years = [2015, 2016, 2017, 2018, 2019, 2020],\n",
    "# we start testing from the second year in the list (e.g., 2016),\n",
    "# because we need at least one year to train on (2015).\n",
    "for test_year in all_years[1:]:\n",
    "    # 4.1) Training data = all years < test_year\n",
    "    train_data = df[df['year'] < test_year]\n",
    "    # 4.2) Testing data = exactly test_year\n",
    "    test_data = df[df['year'] == test_year]\n",
    "    \n",
    "    # Skip if we don't have training or testing rows\n",
    "    if train_data.empty or test_data.empty:\n",
    "        continue\n",
    "    \n",
    "    # 4.3) Define X and y\n",
    "    X_train = train_data[features]\n",
    "    y_train = train_data[target]\n",
    "    X_test = test_data[features]\n",
    "    y_test = test_data[target]\n",
    "    \n",
    "    # 4.4) Fit the model (Random Forest example)\n",
    "    rf = RandomForestRegressor(n_estimators=100, random_state=42)\n",
    "    rf.fit(X_train, y_train)\n",
    "    \n",
    "    # 4.5) Predict on the test set\n",
    "    y_pred = rf.predict(X_test)\n",
    "    \n",
    "    # 4.6) Calculate metrics for this test_year\n",
    "    mse = mean_squared_error(y_test, y_pred)\n",
    "    rmse = np.sqrt(mse)\n",
    "    \n",
    "    # 4.7) Store the results in a list\n",
    "    yearly_results.append({\n",
    "        'test_year': test_year,\n",
    "        'mse': mse,\n",
    "        'rmse': rmse,\n",
    "        'n_samples': len(test_data),\n",
    "    })\n",
    "        # Store actual and predicted values by year\n",
    "    for actual, predicted in zip(y_test.values, y_pred):\n",
    "        actual_predictions.append({\n",
    "            'year': test_year,\n",
    "            'actual': actual,\n",
    "            'predicted': predicted\n",
    "\n",
    "        })\n",
    "\n",
    "# -----------------------------\n",
    "# 5) Summarize results\n",
    "# -----------------------------\n",
    "results_df = pd.DataFrame(yearly_results)\n",
    "print(\"Year-by-Year Results:\")\n",
    "print(results_df)\n",
    "\n",
    "print(\"\\nAverage MSE: {:.2f}\".format(results_df['mse'].mean()))\n",
    "print(\"Average RMSE: {:.2f}\".format(results_df['rmse'].mean()))\n",
    "\n",
    "actual_predictions_df = pd.DataFrame(actual_predictions)\n",
    "print(\"\\nActual vs Predicted by Year:\")\n",
    "print(actual_predictions_df)\n",
    "\n",
    "\n"
   ]
  },
  {
   "cell_type": "markdown",
   "metadata": {},
   "source": []
  },
  {
   "cell_type": "code",
   "execution_count": 82,
   "metadata": {},
   "outputs": [
    {
     "name": "stdout",
     "output_type": "stream",
     "text": [
      "Feature Importances:\n",
      "                  Feature  Importance\n",
      "2       corn_sif_mean_06a    0.438016\n",
      "5  rate_of_change_05a_06a    0.292378\n",
      "3  rate_of_change_05a_05b    0.266505\n",
      "6         area_corn_acres    0.002143\n",
      "4  rate_of_change_05b_06a    0.000382\n",
      "8                   m_pct    0.000256\n",
      "1       corn_sif_mean_05b    0.000195\n",
      "0       corn_sif_mean_05b    0.000124\n",
      "7       area_county_acres    0.000000\n",
      "9                   GEOID    0.000000\n"
     ]
    },
    {
     "data": {
      "image/png": "[encoded data removed]",
      "text/plain": [
       "<Figure size 1000x600 with 1 Axes>"
      ]
     },
     "metadata": {},
     "output_type": "display_data"
    },
    {
     "name": "stdout",
     "output_type": "stream",
     "text": [
      "   year  actual  predicted\n",
      "0  2016   206.9      196.0\n",
      "1  2016   206.9      196.0\n",
      "2  2016   206.9      196.0\n",
      "3  2016   206.9      196.0\n",
      "4  2016   206.9      196.0\n"
     ]
    }
   ],
   "source": [
    "import pandas as pd\n",
    "import numpy as np\n",
    "from sklearn.ensemble import RandomForestRegressor\n",
    "from sklearn.metrics import mean_squared_error\n",
    "import matplotlib.pyplot as plt\n",
    "\n",
    "# Sort your data by year\n",
    "df = df.sort_values('year').reset_index(drop=True)\n",
    "\n",
    "# Create rate of change features\n",
    "df['rate_of_change_05a_05b'] = (df['corn_sif_mean_05b'] - df['corn_sif_mean_05a']) / df['corn_sif_mean_05a']\n",
    "df['rate_of_change_05b_06a'] = (df['corn_sif_mean_06a'] - df['corn_sif_mean_05b']) / df['corn_sif_mean_05b']\n",
    "# df['rate_of_change_06a_06b'] = (df['corn_sif_mean_06b'] - df['corn_sif_mean_06a']) / df['corn_sif_mean_06a']\n",
    "df['rate_of_change_05a_06a'] = (df['corn_sif_mean_06a'] - df['corn_sif_mean_05a']) / df['corn_sif_mean_05a']\n",
    "\n",
    "# Define predictive features and target\n",
    "features = ['corn_sif_mean_05b','corn_sif_mean_05b', 'corn_sif_mean_06a','rate_of_change_05a_05b',\n",
    "            'rate_of_change_05b_06a', 'rate_of_change_05a_06a',\n",
    "            'area_corn_acres', 'area_county_acres','m_pct']\n",
    "target = 'bushels_per_acre_actual'\n",
    "\n",
    "# List unique years in ascending order\n",
    "all_years = sorted(df['year'].unique())\n",
    "\n",
    "# Prepare data structure to save actual vs. predicted results\n",
    "actual_vs_predicted = []\n",
    "\n",
    "# Walk-forward loop, year-by-year\n",
    "for test_year in all_years[1:]:\n",
    "    # Training and testing data\n",
    "    train_data = df[df['year'] < test_year]\n",
    "    test_data = df[df['year'] == test_year]\n",
    "    \n",
    "    if train_data.empty or test_data.empty:\n",
    "        continue\n",
    "\n",
    "    # Define X and y\n",
    "    X_train = train_data[features]\n",
    "    y_train = train_data[target]\n",
    "    X_test = test_data[features]\n",
    "    y_test = test_data[target]\n",
    "\n",
    "    # Fit the Random Forest model\n",
    "    rf = RandomForestRegressor(n_estimators=100, random_state=42)\n",
    "    rf.fit(X_train, y_train)\n",
    "\n",
    "    # Predict on the test set\n",
    "    y_pred = rf.predict(X_test)\n",
    "\n",
    "    # Store actual vs. predicted results\n",
    "    for actual, predicted in zip(y_test, y_pred):\n",
    "        actual_vs_predicted.append({\n",
    "            'year': test_year,\n",
    "            'actual': actual,\n",
    "            'predicted': predicted\n",
    "        })\n",
    "\n",
    "# Convert to DataFrame\n",
    "actual_vs_predicted_df = pd.DataFrame(actual_vs_predicted)\n",
    "\n",
    "# Feature importance\n",
    "rf.fit(df[features], df[target])\n",
    "feature_importances = pd.DataFrame({'Feature': features, 'Importance': rf.feature_importances_}).sort_values(by='Importance', ascending=False)\n",
    "print(\"Feature Importances:\")\n",
    "print(feature_importances)\n",
    "\n",
    "# Plot feature importance\n",
    "plt.figure(figsize=(10, 6))\n",
    "plt.barh(feature_importances['Feature'], feature_importances['Importance'], color='skyblue')\n",
    "plt.xlabel('Importance')\n",
    "plt.ylabel('Feature')\n",
    "plt.title('Feature Importance from Random Forest Model')\n",
    "plt.gca().invert_yaxis()\n",
    "plt.show()\n",
    "\n",
    "# Save the results to CSV or display\n",
    "actual_vs_predicted_df.to_csv('actual_vs_predicted.csv', index=False)\n",
    "print(actual_vs_predicted_df.head())"
   ]
  },
  {
   "cell_type": "code",
   "execution_count": null,
   "metadata": {},
   "outputs": [],
   "source": []
  }
 ],
 "metadata": {
  "kernelspec": {
   "display_name": "Python 3",
   "language": "python",
   "name": "python3"
  },
  "language_info": {
   "codemirror_mode": {
    "name": "ipython",
    "version": 3
   },
   "file_extension": ".py",
   "mimetype": "text/x-python",
   "name": "python",
   "nbconvert_exporter": "python",
   "pygments_lexer": "ipython3",
   "version": "3.11.9"
  }
 },
 "nbformat": 4,
 "nbformat_minor": 2
}
