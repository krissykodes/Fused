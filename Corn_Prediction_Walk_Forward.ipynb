{
 "cells": [
  {
   "cell_type": "markdown",
   "metadata": {},
   "source": [
    "# Corn Yield Prediction \n",
    "\n",
    "Below is is v0 of Kristin's corn yield prediction model (using 3 measurements of SIF and walk forward validation) and steps I followed:\n",
    "\n",
    "1. Retrieve Data from Fused UDF-Cornucopia \n",
    "2. Create a baseline linear model using the provided formula and treat it as your benchmark.\n",
    "3. Implement a Random Forest model for yield prediction.\n",
    "4. Perform a walk-forward validation (train/test splits by year).\n",
    "5. Reserve a final holdout set to measure out-of-sample performance.\n"
   ]
  },
  {
   "cell_type": "markdown",
   "metadata": {},
   "source": [
    "## 1. Baseline Model\n",
    "\n",
    "Baseline model gathered data from this image (https://www.nass.usda.gov/Charts_and_Maps/Field_Crops/cornyld.php) using data previous to 2015 and removing outliers."
   ]
  },
  {
   "cell_type": "code",
   "execution_count": 3,
   "metadata": {},
   "outputs": [
    {
     "name": "stdout",
     "output_type": "stream",
     "text": [
      "Linear Model: Yield = 2.34 * Year + -4547.36\n",
      "Mean Squared Error: 36.94\n"
     ]
    }
   ],
   "source": [
    "import numpy as np\n",
    "import matplotlib.pyplot as plt\n",
    "from sklearn.linear_model import LinearRegression\n",
    "from sklearn.metrics import mean_squared_error\n",
    "    \n",
    "    \n",
    "#Create baseline model based on USDA Screenshot data from 1995\n",
    "# Data extracted from the chart\n",
    "years = np.array([1995, 1996, 1997, 1998, 1999, 2000, 2001, 2002, 2003, 2004, 2005, 2006, 2007, 2008, 2009, 2010, 2011, 2013, 2014, 2015, 2016]).reshape(-1, 1)\n",
    "yields = np.array([113.5, 127.1, 126.7, 134.4, 133.8, 136.9, 138.2, 129.3, 142.2, 160.3, 147.9, 150.7, 153.3, 152.6, 164.4, 146.8, 158.1, 158.1, 171.0, 168.4, 174.6])\n",
    "\n",
    "# Remove outliers\n",
    "q1, q3 = np.percentile(yields, [25, 75])\n",
    "iqr = q3 - q1\n",
    "mask = (yields >= q1 - 1.5 * iqr) & (yields <= q3 + 1.5 * iqr)\n",
    "years, yields = years[mask], yields[mask]\n",
    "\n",
    "# Fit and predict\n",
    "model = LinearRegression().fit(years, yields)\n",
    "yield_predictions = model.predict(years)\n",
    "\n",
    "# Output model and error\n",
    "print(f\"Linear Model: Yield = {model.coef_[0]:.2f} * Year + {model.intercept_:.2f}\")\n",
    "print(f\"Mean Squared Error: {mean_squared_error(yields, yield_predictions):.2f}\")\n",
    "\n",
    "#hardcoded baseline model\n",
    "def baseline_model(year):\n",
    "    return 2.34 * year - 4547.36\n",
    "\n",
    "\n"
   ]
  },
  {
   "cell_type": "markdown",
   "metadata": {},
   "source": [
    "## 2. Retrieve Data from Fused\n",
    "\n",
    "### Connect to Fuseda and Use Cornucopia UDF. \n",
    "\n",
    "We specify the area for the UDF to download data by passing a GeoDataFrame to the bbox parameter."
   ]
  },
  {
   "cell_type": "code",
   "execution_count": 4,
   "metadata": {},
   "outputs": [
    {
     "name": "stdout",
     "output_type": "stream",
     "text": [
      "Note: you may need to restart the kernel to use updated packages.\n"
     ]
    }
   ],
   "source": [
    "pip install fused -q"
   ]
  },
  {
   "cell_type": "code",
   "execution_count": 1,
   "metadata": {},
   "outputs": [
    {
     "data": {
      "text/markdown": [
       "\n",
       "Please open this link to authenticate with Fused:\n",
       "\n",
       "* [https://dev-tjcykxcetrz6bps6.us.auth0.com/authorize?audience=fused-python-api&scope=openid+email+name+offline_access&response_type=code&client_id=CXiwKZQmmyo0rqXZY7pzBgfsF7AL2A9l&redirect_uri=https%3A%2F%2Fwww.fused.io%2Fnotebook_login_redirect&code_challenge_method=S256&code_challenge=_mbZUj3SA_xr0r4VIlJOahCQcDX0Q6-TTXfiSq-rk5A](https://dev-tjcykxcetrz6bps6.us.auth0.com/authorize?audience=fused-python-api&scope=openid+email+name+offline_access&response_type=code&client_id=CXiwKZQmmyo0rqXZY7pzBgfsF7AL2A9l&redirect_uri=https%3A%2F%2Fwww.fused.io%2Fnotebook_login_redirect&code_challenge_method=S256&code_challenge=_mbZUj3SA_xr0r4VIlJOahCQcDX0Q6-TTXfiSq-rk5A)\n",
       "\n",
       "Once you have logged in, that page will give you a code which you can paste into this notebook to finish logging in.\n"
      ],
      "text/plain": [
       "<IPython.core.display.Markdown object>"
      ]
     },
     "metadata": {},
     "output_type": "display_data"
    }
   ],
   "source": [
    "# Run this cell, visit the URL, paste the provided credentials snippet in a new cell\n",
    "from fused.api import NotebookCredentials\n",
    "credentials = NotebookCredentials()"
   ]
  },
  {
   "cell_type": "code",
   "execution_count": 2,
   "metadata": {},
   "outputs": [
    {
     "data": {
      "text/markdown": [
       "You are now logged in to Fused. :rocket:"
      ],
      "text/plain": [
       "<IPython.core.display.Markdown object>"
      ]
     },
     "metadata": {},
     "output_type": "display_data"
    },
    {
     "data": {
      "text/plain": [
       "<fused.api.api.FusedAPI at 0x11b05d490>"
      ]
     },
     "execution_count": 2,
     "metadata": {},
     "output_type": "execute_result"
    }
   ],
   "source": [
    "credentials.finalize(code=\"_eLzl1HR2p7rPZ3JsKtqkMcPScc6R--WRYpaJwFyOJbGY\")"
   ]
  },
  {
   "cell_type": "code",
   "execution_count": 45,
   "metadata": {},
   "outputs": [],
   "source": [
    "import fused\n",
    "import geopandas as gpd\n",
    "import shapely\n",
    "from sklearn.ensemble import RandomForestRegressor\n",
    "from sklearn.metrics import mean_squared_error\n",
    "from sklearn.model_selection import train_test_split\n",
    "\n",
    "# bbox = gpd.GeoDataFrame(\n",
    "#     geometry=[shapely.box(-73.9847, 40.7666, -73.9810, 40.7694)], \n",
    "#     crs=4326\n",
    "# )\n",
    "# bbox"
   ]
  },
  {
   "cell_type": "markdown",
   "metadata": {},
   "source": [
    "\n",
    "### Run the Overture UDF\n",
    "\n",
    "We may run the Fused Overture UDF with [fused.run](https://docs.fused.io/core-concepts/run/). We specify the area to load data with the bbox parameter. The UDF also provides optional parameters to select specific Overture releases, datasets, and columns - giving you flexibility to fetch only the data you need."
   ]
  },
  {
   "cell_type": "markdown",
   "metadata": {},
   "source": [
    "#### Buildings"
   ]
  },
  {
   "cell_type": "code",
   "execution_count": 46,
   "metadata": {},
   "outputs": [
    {
     "data": {
      "text/html": [
       "<div>\n",
       "<style scoped>\n",
       "    .dataframe tbody tr th:only-of-type {\n",
       "        vertical-align: middle;\n",
       "    }\n",
       "\n",
       "    .dataframe tbody tr th {\n",
       "        vertical-align: top;\n",
       "    }\n",
       "\n",
       "    .dataframe thead th {\n",
       "        text-align: right;\n",
       "    }\n",
       "</style>\n",
       "<table border=\"1\" class=\"dataframe\">\n",
       "  <thead>\n",
       "    <tr style=\"text-align: right;\">\n",
       "      <th></th>\n",
       "      <th>GEOID</th>\n",
       "      <th>year</th>\n",
       "      <th>corn_sif_mean_05a</th>\n",
       "      <th>corn_sif_mean_05b</th>\n",
       "      <th>corn_sif_mean_06a</th>\n",
       "      <th>corn_sif_mean_06b</th>\n",
       "      <th>corn_sif_mean_07a</th>\n",
       "      <th>corn_sif_mean_07b</th>\n",
       "      <th>bushels_per_acre_actual</th>\n",
       "      <th>area_corn_acres</th>\n",
       "      <th>area_county_acres</th>\n",
       "      <th>geometry</th>\n",
       "      <th>m_pct</th>\n",
       "      <th>bushels_sum_actual</th>\n",
       "    </tr>\n",
       "  </thead>\n",
       "  <tbody>\n",
       "    <tr>\n",
       "      <th>0</th>\n",
       "      <td>19119</td>\n",
       "      <td>2015</td>\n",
       "      <td>0.060527</td>\n",
       "      <td>0.081454</td>\n",
       "      <td>0.21092</td>\n",
       "      <td>0.411868</td>\n",
       "      <td>0.63121</td>\n",
       "      <td>0.844618</td>\n",
       "      <td>196.0</td>\n",
       "      <td>165598.064624</td>\n",
       "      <td>3.763592e+13</td>\n",
       "      <td>POLYGON ((-96.05316 43.50016, -96.05316 43.500...</td>\n",
       "      <td>0.44</td>\n",
       "      <td>3.245722e+07</td>\n",
       "    </tr>\n",
       "    <tr>\n",
       "      <th>1</th>\n",
       "      <td>19119</td>\n",
       "      <td>2015</td>\n",
       "      <td>0.060527</td>\n",
       "      <td>0.081454</td>\n",
       "      <td>0.21092</td>\n",
       "      <td>0.411868</td>\n",
       "      <td>0.63121</td>\n",
       "      <td>0.844618</td>\n",
       "      <td>196.0</td>\n",
       "      <td>165598.064624</td>\n",
       "      <td>3.763592e+13</td>\n",
       "      <td>POLYGON ((-96.05316 43.50016, -96.05316 43.500...</td>\n",
       "      <td>0.44</td>\n",
       "      <td>3.245722e+07</td>\n",
       "    </tr>\n",
       "    <tr>\n",
       "      <th>2</th>\n",
       "      <td>19119</td>\n",
       "      <td>2015</td>\n",
       "      <td>0.060527</td>\n",
       "      <td>0.081454</td>\n",
       "      <td>0.21092</td>\n",
       "      <td>0.411868</td>\n",
       "      <td>0.63121</td>\n",
       "      <td>0.844618</td>\n",
       "      <td>196.0</td>\n",
       "      <td>173125.249379</td>\n",
       "      <td>3.763592e+13</td>\n",
       "      <td>POLYGON ((-96.05316 43.50016, -96.05316 43.500...</td>\n",
       "      <td>0.46</td>\n",
       "      <td>3.393255e+07</td>\n",
       "    </tr>\n",
       "    <tr>\n",
       "      <th>3</th>\n",
       "      <td>19119</td>\n",
       "      <td>2015</td>\n",
       "      <td>0.060527</td>\n",
       "      <td>0.081454</td>\n",
       "      <td>0.21092</td>\n",
       "      <td>0.411868</td>\n",
       "      <td>0.63121</td>\n",
       "      <td>0.844618</td>\n",
       "      <td>196.0</td>\n",
       "      <td>176888.841757</td>\n",
       "      <td>3.763592e+13</td>\n",
       "      <td>POLYGON ((-96.05316 43.50016, -96.05316 43.500...</td>\n",
       "      <td>0.47</td>\n",
       "      <td>3.467021e+07</td>\n",
       "    </tr>\n",
       "    <tr>\n",
       "      <th>4</th>\n",
       "      <td>19119</td>\n",
       "      <td>2015</td>\n",
       "      <td>0.060527</td>\n",
       "      <td>0.081454</td>\n",
       "      <td>0.21092</td>\n",
       "      <td>0.411868</td>\n",
       "      <td>0.63121</td>\n",
       "      <td>0.844618</td>\n",
       "      <td>196.0</td>\n",
       "      <td>176888.841757</td>\n",
       "      <td>3.763592e+13</td>\n",
       "      <td>POLYGON ((-96.05316 43.50016, -96.05316 43.500...</td>\n",
       "      <td>0.47</td>\n",
       "      <td>3.467021e+07</td>\n",
       "    </tr>\n",
       "  </tbody>\n",
       "</table>\n",
       "</div>"
      ],
      "text/plain": [
       "   GEOID  year  corn_sif_mean_05a  corn_sif_mean_05b  corn_sif_mean_06a  \\\n",
       "0  19119  2015           0.060527           0.081454            0.21092   \n",
       "1  19119  2015           0.060527           0.081454            0.21092   \n",
       "2  19119  2015           0.060527           0.081454            0.21092   \n",
       "3  19119  2015           0.060527           0.081454            0.21092   \n",
       "4  19119  2015           0.060527           0.081454            0.21092   \n",
       "\n",
       "   corn_sif_mean_06b  corn_sif_mean_07a  corn_sif_mean_07b  \\\n",
       "0           0.411868            0.63121           0.844618   \n",
       "1           0.411868            0.63121           0.844618   \n",
       "2           0.411868            0.63121           0.844618   \n",
       "3           0.411868            0.63121           0.844618   \n",
       "4           0.411868            0.63121           0.844618   \n",
       "\n",
       "   bushels_per_acre_actual  area_corn_acres  area_county_acres  \\\n",
       "0                    196.0    165598.064624       3.763592e+13   \n",
       "1                    196.0    165598.064624       3.763592e+13   \n",
       "2                    196.0    173125.249379       3.763592e+13   \n",
       "3                    196.0    176888.841757       3.763592e+13   \n",
       "4                    196.0    176888.841757       3.763592e+13   \n",
       "\n",
       "                                            geometry  m_pct  \\\n",
       "0  POLYGON ((-96.05316 43.50016, -96.05316 43.500...   0.44   \n",
       "1  POLYGON ((-96.05316 43.50016, -96.05316 43.500...   0.44   \n",
       "2  POLYGON ((-96.05316 43.50016, -96.05316 43.500...   0.46   \n",
       "3  POLYGON ((-96.05316 43.50016, -96.05316 43.500...   0.47   \n",
       "4  POLYGON ((-96.05316 43.50016, -96.05316 43.500...   0.47   \n",
       "\n",
       "   bushels_sum_actual  \n",
       "0        3.245722e+07  \n",
       "1        3.245722e+07  \n",
       "2        3.393255e+07  \n",
       "3        3.467021e+07  \n",
       "4        3.467021e+07  "
      ]
     },
     "execution_count": 46,
     "metadata": {},
     "output_type": "execute_result"
    }
   ],
   "source": [
    "df = fused.run('fsh_6zh59m43BXZwFulEbTBux4') \n",
    "df.head()\n"
   ]
  },
  {
   "cell_type": "code",
   "execution_count": 47,
   "metadata": {},
   "outputs": [
    {
     "name": "stdout",
     "output_type": "stream",
     "text": [
      "year\n",
      "2015    6\n",
      "2016    6\n",
      "2019    6\n",
      "2020    6\n",
      "Name: count, dtype: int64\n"
     ]
    }
   ],
   "source": [
    "df['year'].unique()\n",
    "\n",
    "# Count the number of rows for each unique year\n",
    "year_counts = df['year'].value_counts().sort_index()\n",
    "\n",
    "# Display the result\n",
    "print(year_counts)"
   ]
  },
  {
   "cell_type": "code",
   "execution_count": 48,
   "metadata": {},
   "outputs": [
    {
     "name": "stdout",
     "output_type": "stream",
     "text": [
      "GEOID                      0\n",
      "year                       0\n",
      "corn_sif_mean_05a          0\n",
      "corn_sif_mean_05b          0\n",
      "corn_sif_mean_06a          0\n",
      "corn_sif_mean_06b          0\n",
      "corn_sif_mean_07a          0\n",
      "corn_sif_mean_07b          0\n",
      "bushels_per_acre_actual    0\n",
      "area_corn_acres            0\n",
      "area_county_acres          0\n",
      "geometry                   0\n",
      "m_pct                      0\n",
      "bushels_sum_actual         0\n",
      "dtype: int64\n"
     ]
    }
   ],
   "source": [
    "null_counts = df.isnull().sum()\n",
    "print(null_counts)\n"
   ]
  },
  {
   "cell_type": "code",
   "execution_count": 49,
   "metadata": {},
   "outputs": [],
   "source": [
    "# print(df.describe())"
   ]
  },
  {
   "cell_type": "markdown",
   "metadata": {},
   "source": [
    "### Year by Year Walk Forward\n"
   ]
  },
  {
   "cell_type": "code",
   "execution_count": 53,
   "metadata": {},
   "outputs": [
    {
     "name": "stdout",
     "output_type": "stream",
     "text": [
      "Year-by-Year Results:\n",
      "   test_year         mse       rmse  n_samples\n",
      "0       2016  118.810000  10.900000          6\n",
      "1       2019  192.099600  13.860000          6\n",
      "2       2020   32.259076   5.679707          6\n",
      "\n",
      "Average MSE: 114.39\n",
      "Average RMSE: 10.15\n",
      "\n",
      "Actual vs Predicted by Year:\n",
      "    year  actual  predicted\n",
      "0   2016   206.9    196.000\n",
      "1   2016   206.9    196.000\n",
      "2   2016   206.9    196.000\n",
      "3   2016   206.9    196.000\n",
      "4   2016   206.9    196.000\n",
      "5   2016   206.9    196.000\n",
      "6   2019   186.5    200.360\n",
      "7   2019   186.5    200.360\n",
      "8   2019   186.5    200.360\n",
      "9   2019   186.5    200.360\n",
      "10  2019   186.5    200.360\n",
      "11  2019   186.5    200.360\n",
      "12  2020   197.0    202.775\n",
      "13  2020   197.0    202.476\n",
      "14  2020   197.0    202.476\n",
      "15  2020   197.0    203.074\n",
      "16  2020   197.0    202.775\n",
      "17  2020   197.0    202.476\n"
     ]
    }
   ],
   "source": [
    "import pandas as pd\n",
    "import numpy as np\n",
    "from sklearn.ensemble import RandomForestRegressor\n",
    "from sklearn.metrics import mean_squared_error\n",
    "\n",
    "# -----------------------------\n",
    "# 1) Sort your data by year\n",
    "# -----------------------------\n",
    "df = df.sort_values('year').reset_index(drop=True)\n",
    "\n",
    "# We assume these are the predictive features.\n",
    "features = ['corn_sif_mean_05b', 'corn_sif_mean_06a', 'corn_sif_mean_06b',\n",
    "            'area_corn_acres', 'area_county_acres', 'm_pct']\n",
    "\n",
    "target = 'bushels_per_acre_actual'\n",
    "\n",
    "# -----------------------------\n",
    "# 2) List unique years in ascending order\n",
    "# -----------------------------\n",
    "all_years = sorted(df['year'].unique())\n",
    "\n",
    "# -----------------------------\n",
    "# 3) Prepare data structure to save results\n",
    "# -----------------------------\n",
    "yearly_results = []  # Will hold per-year results\n",
    "actual_predictions = []  # To store actual and predicted values for all years\n",
    "pred_results = []  # To store actual and predicted values for all years\n",
    "\n",
    "\n",
    "# -----------------------------\n",
    "# 4) Walk-forward loop, year-by-year\n",
    "# -----------------------------\n",
    "# Example: If all_years = [2015, 2016, 2017, 2018, 2019, 2020],\n",
    "# we start testing from the second year in the list (e.g., 2016),\n",
    "# because we need at least one year to train on (2015).\n",
    "for test_year in all_years[1:]:\n",
    "    # 4.1) Training data = all years < test_year\n",
    "    train_data = df[df['year'] < test_year]\n",
    "    # 4.2) Testing data = exactly test_year\n",
    "    test_data = df[df['year'] == test_year]\n",
    "    \n",
    "    # Skip if we don't have training or testing rows\n",
    "    if train_data.empty or test_data.empty:\n",
    "        continue\n",
    "    \n",
    "    # 4.3) Define X and y\n",
    "    X_train = train_data[features]\n",
    "    y_train = train_data[target]\n",
    "    X_test = test_data[features]\n",
    "    y_test = test_data[target]\n",
    "    \n",
    "    # 4.4) Fit the model (Random Forest example)\n",
    "    rf = RandomForestRegressor(n_estimators=100, random_state=42)\n",
    "    rf.fit(X_train, y_train)\n",
    "    \n",
    "    # 4.5) Predict on the test set\n",
    "    y_pred = rf.predict(X_test)\n",
    "    \n",
    "    # 4.6) Calculate metrics for this test_year\n",
    "    mse = mean_squared_error(y_test, y_pred)\n",
    "    rmse = np.sqrt(mse)\n",
    "    \n",
    "    # 4.7) Store the results in a list\n",
    "    yearly_results.append({\n",
    "        'test_year': test_year,\n",
    "        'mse': mse,\n",
    "        'rmse': rmse,\n",
    "        'n_samples': len(test_data),\n",
    "    })\n",
    "        # Store actual and predicted values by year\n",
    "    for actual, predicted in zip(y_test.values, y_pred):\n",
    "        actual_predictions.append({\n",
    "            'year': test_year,\n",
    "            'actual': actual,\n",
    "            'predicted': predicted\n",
    "\n",
    "        })\n",
    "\n",
    "# -----------------------------\n",
    "# 5) Summarize results\n",
    "# -----------------------------\n",
    "results_df = pd.DataFrame(yearly_results)\n",
    "print(\"Year-by-Year Results:\")\n",
    "print(results_df)\n",
    "\n",
    "print(\"\\nAverage MSE: {:.2f}\".format(results_df['mse'].mean()))\n",
    "print(\"Average RMSE: {:.2f}\".format(results_df['rmse'].mean()))\n",
    "\n",
    "actual_predictions_df = pd.DataFrame(actual_predictions)\n",
    "print(\"\\nActual vs Predicted by Year:\")\n",
    "print(actual_predictions_df)\n",
    "\n",
    "\n"
   ]
  },
  {
   "cell_type": "markdown",
   "metadata": {},
   "source": []
  },
  {
   "cell_type": "code",
   "execution_count": 56,
   "metadata": {},
   "outputs": [
    {
     "name": "stdout",
     "output_type": "stream",
     "text": [
      "Feature Importances:\n",
      "                   Feature  Importance\n",
      "5   rate_of_change_06a_06b    0.296028\n",
      "2        corn_sif_mean_06b    0.264127\n",
      "3   rate_of_change_05a_05b    0.221166\n",
      "1        corn_sif_mean_06a    0.115684\n",
      "6   rate_of_change_05b_06b    0.101965\n",
      "4   rate_of_change_05b_06a    0.000455\n",
      "0        corn_sif_mean_05b    0.000370\n",
      "7          area_corn_acres    0.000121\n",
      "9                    m_pct    0.000083\n",
      "8        area_county_acres    0.000000\n",
      "10                   GEOID    0.000000\n"
     ]
    },
    {
     "data": {
      "image/png": "[encoded data removed]",
      "text/plain": [
       "<Figure size 1000x600 with 1 Axes>"
      ]
     },
     "metadata": {},
     "output_type": "display_data"
    },
    {
     "name": "stdout",
     "output_type": "stream",
     "text": [
      "   year  actual  predicted\n",
      "0  2016   206.9      196.0\n",
      "1  2016   206.9      196.0\n",
      "2  2016   206.9      196.0\n",
      "3  2016   206.9      196.0\n",
      "4  2016   206.9      196.0\n"
     ]
    }
   ],
   "source": [
    "import pandas as pd\n",
    "import numpy as np\n",
    "from sklearn.ensemble import RandomForestRegressor\n",
    "from sklearn.metrics import mean_squared_error\n",
    "import matplotlib.pyplot as plt\n",
    "\n",
    "# Sort your data by year\n",
    "df = df.sort_values('year').reset_index(drop=True)\n",
    "\n",
    "# Create rate of change features\n",
    "df['rate_of_change_05a_05b'] = (df['corn_sif_mean_05b'] - df['corn_sif_mean_05a']) / df['corn_sif_mean_05a']\n",
    "df['rate_of_change_05b_06a'] = (df['corn_sif_mean_06a'] - df['corn_sif_mean_05b']) / df['corn_sif_mean_05b']\n",
    "df['rate_of_change_06a_06b'] = (df['corn_sif_mean_06b'] - df['corn_sif_mean_06a']) / df['corn_sif_mean_06a']\n",
    "df['rate_of_change_05b_06b'] = (df['corn_sif_mean_06b'] - df['corn_sif_mean_05b']) / df['corn_sif_mean_05b']\n",
    "\n",
    "# Define predictive features and target\n",
    "features = ['corn_sif_mean_05b', 'corn_sif_mean_06a', 'corn_sif_mean_06b','rate_of_change_05a_05b',\n",
    "            'rate_of_change_05b_06a', 'rate_of_change_06a_06b', 'rate_of_change_05b_06b',\n",
    "            'area_corn_acres', 'area_county_acres','m_pct','GEOID']\n",
    "target = 'bushels_per_acre_actual'\n",
    "\n",
    "# List unique years in ascending order\n",
    "all_years = sorted(df['year'].unique())\n",
    "\n",
    "# Prepare data structure to save actual vs. predicted results\n",
    "actual_vs_predicted = []\n",
    "\n",
    "# Walk-forward loop, year-by-year\n",
    "for test_year in all_years[1:]:\n",
    "    # Training and testing data\n",
    "    train_data = df[df['year'] < test_year]\n",
    "    test_data = df[df['year'] == test_year]\n",
    "    \n",
    "    if train_data.empty or test_data.empty:\n",
    "        continue\n",
    "\n",
    "    # Define X and y\n",
    "    X_train = train_data[features]\n",
    "    y_train = train_data[target]\n",
    "    X_test = test_data[features]\n",
    "    y_test = test_data[target]\n",
    "\n",
    "    # Fit the Random Forest model\n",
    "    rf = RandomForestRegressor(n_estimators=100, random_state=42)\n",
    "    rf.fit(X_train, y_train)\n",
    "\n",
    "    # Predict on the test set\n",
    "    y_pred = rf.predict(X_test)\n",
    "\n",
    "    # Store actual vs. predicted results\n",
    "    for actual, predicted in zip(y_test, y_pred):\n",
    "        actual_vs_predicted.append({\n",
    "            'year': test_year,\n",
    "            'actual': actual,\n",
    "            'predicted': predicted\n",
    "        })\n",
    "\n",
    "# Convert to DataFrame\n",
    "actual_vs_predicted_df = pd.DataFrame(actual_vs_predicted)\n",
    "\n",
    "# Feature importance\n",
    "rf.fit(df[features], df[target])\n",
    "feature_importances = pd.DataFrame({'Feature': features, 'Importance': rf.feature_importances_}).sort_values(by='Importance', ascending=False)\n",
    "print(\"Feature Importances:\")\n",
    "print(feature_importances)\n",
    "\n",
    "# Plot feature importance\n",
    "plt.figure(figsize=(10, 6))\n",
    "plt.barh(feature_importances['Feature'], feature_importances['Importance'], color='skyblue')\n",
    "plt.xlabel('Importance')\n",
    "plt.ylabel('Feature')\n",
    "plt.title('Feature Importance from Random Forest Model')\n",
    "plt.gca().invert_yaxis()\n",
    "plt.show()\n",
    "\n",
    "# Save the results to CSV or display\n",
    "actual_vs_predicted_df.to_csv('actual_vs_predicted.csv', index=False)\n",
    "print(actual_vs_predicted_df.head())"
   ]
  },
  {
   "cell_type": "code",
   "execution_count": 57,
   "metadata": {},
   "outputs": [
    {
     "name": "stdout",
     "output_type": "stream",
     "text": [
      "Feature Importances:\n",
      "             Feature  Importance\n",
      "2              m_pct    0.532496\n",
      "0    area_corn_acres    0.467504\n",
      "1  area_county_acres    0.000000\n",
      "3              GEOID    0.000000\n"
     ]
    },
    {
     "data": {
      "image/png": "[encoded data removed]",
      "text/plain": [
       "<Figure size 1000x600 with 1 Axes>"
      ]
     },
     "metadata": {},
     "output_type": "display_data"
    },
    {
     "name": "stdout",
     "output_type": "stream",
     "text": [
      "   year  actual  predicted\n",
      "0  2016   206.9      196.0\n",
      "1  2016   206.9      196.0\n",
      "2  2016   206.9      196.0\n",
      "3  2016   206.9      196.0\n",
      "4  2016   206.9      196.0\n"
     ]
    }
   ],
   "source": [
    "import pandas as pd\n",
    "import numpy as np\n",
    "from sklearn.ensemble import RandomForestRegressor\n",
    "from sklearn.metrics import mean_squared_error\n",
    "import matplotlib.pyplot as plt\n",
    "\n",
    "# Sort your data by year\n",
    "df = df.sort_values('year').reset_index(drop=True)\n",
    "\n",
    "# # Create rate of change features\n",
    "# df['rate_of_change_05a_05b'] = (df['corn_sif_mean_05b'] - df['corn_sif_mean_05a']) / df['corn_sif_mean_05a']\n",
    "# df['rate_of_change_05b_06a'] = (df['corn_sif_mean_06a'] - df['corn_sif_mean_05b']) / df['corn_sif_mean_05b']\n",
    "# df['rate_of_change_06a_06b'] = (df['corn_sif_mean_06b'] - df['corn_sif_mean_06a']) / df['corn_sif_mean_06a']\n",
    "# df['rate_of_change_05b_06b'] = (df['corn_sif_mean_06b'] - df['corn_sif_mean_05b']) / df['corn_sif_mean_05b']\n",
    "\n",
    "# Define predictive features and target\n",
    "features = ['area_corn_acres', 'area_county_acres', 'm_pct','GEOID']\n",
    "target = 'bushels_per_acre_actual'\n",
    "\n",
    "# List unique years in ascending order\n",
    "all_years = sorted(df['year'].unique())\n",
    "\n",
    "# Prepare data structure to save actual vs. predicted results\n",
    "actual_vs_predicted = []\n",
    "\n",
    "# Walk-forward loop, year-by-year\n",
    "for test_year in all_years[1:]:\n",
    "    # Training and testing data\n",
    "    train_data = df[df['year'] < test_year]\n",
    "    test_data = df[df['year'] == test_year]\n",
    "    \n",
    "    if train_data.empty or test_data.empty:\n",
    "        continue\n",
    "\n",
    "    # Define X and y\n",
    "    X_train = train_data[features]\n",
    "    y_train = train_data[target]\n",
    "    X_test = test_data[features]\n",
    "    y_test = test_data[target]\n",
    "\n",
    "    # Fit the Random Forest model\n",
    "    rf = RandomForestRegressor(n_estimators=100, random_state=42)\n",
    "    rf.fit(X_train, y_train)\n",
    "\n",
    "    # Predict on the test set\n",
    "    y_pred = rf.predict(X_test)\n",
    "\n",
    "    # Store actual vs. predicted results\n",
    "    for actual, predicted in zip(y_test, y_pred):\n",
    "        actual_vs_predicted.append({\n",
    "            'year': test_year,\n",
    "            'actual': actual,\n",
    "            'predicted': predicted\n",
    "        })\n",
    "\n",
    "# Convert to DataFrame\n",
    "actual_vs_predicted_df = pd.DataFrame(actual_vs_predicted)\n",
    "\n",
    "# Feature importance\n",
    "rf.fit(df[features], df[target])\n",
    "feature_importances = pd.DataFrame({'Feature': features, 'Importance': rf.feature_importances_}).sort_values(by='Importance', ascending=False)\n",
    "print(\"Feature Importances:\")\n",
    "print(feature_importances)\n",
    "\n",
    "# Plot feature importance\n",
    "plt.figure(figsize=(10, 6))\n",
    "plt.barh(feature_importances['Feature'], feature_importances['Importance'], color='skyblue')\n",
    "plt.xlabel('Importance')\n",
    "plt.ylabel('Feature')\n",
    "plt.title('Feature Importance from Random Forest Model')\n",
    "plt.gca().invert_yaxis()\n",
    "plt.show()\n",
    "\n",
    "# Save the results to CSV or display\n",
    "actual_vs_predicted_df.to_csv('actual_vs_predicted.csv', index=False)\n",
    "print(actual_vs_predicted_df.head())"
   ]
  },
  {
   "cell_type": "code",
   "execution_count": null,
   "metadata": {},
   "outputs": [],
   "source": []
  }
 ],
 "metadata": {
  "kernelspec": {
   "display_name": "Python 3",
   "language": "python",
   "name": "python3"
  },
  "language_info": {
   "codemirror_mode": {
    "name": "ipython",
    "version": 3
   },
   "file_extension": ".py",
   "mimetype": "text/x-python",
   "name": "python",
   "nbconvert_exporter": "python",
   "pygments_lexer": "ipython3",
   "version": "3.11.9"
  }
 },
 "nbformat": 4,
 "nbformat_minor": 2
}
